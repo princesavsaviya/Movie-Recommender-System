{
 "cells": [
  {
   "cell_type": "code",
   "execution_count": null,
   "metadata": {},
   "outputs": [],
   "source": [
    "# Import Libraries\n",
    "\n",
    "import pandas as pd\n",
    "import numpy as np\n",
    "import spacy\n",
    "from sentence_transformers import SentenceTransformer, util\n",
    "from sklearn.cluster import AgglomerativeClustering\n",
    "from sklearn.metrics.pairwise import cosine_similarity\n",
    "from sklearn.feature_extraction.text import TfidfVectorizer"
   ]
  },
  {
   "cell_type": "code",
   "execution_count": 2,
   "metadata": {},
   "outputs": [],
   "source": [
    "# Load nlp model from spacy\n",
    "nlp = spacy.load(\"en_core_web_sm\")"
   ]
  },
  {
   "cell_type": "code",
   "execution_count": 3,
   "metadata": {},
   "outputs": [],
   "source": [
    "def preprocess_text(text):\n",
    "    \"\"\"\n",
    "    Preprocess text: lowercase, lemmatize, and remove stopwords & non-alpha tokens.\n",
    "    \"\"\"\n",
    "    \n",
    "    doc = nlp(text.lower())\n",
    "    tokens = [token.lemma_ for token in doc if token.is_alpha and not token.is_stop]\n",
    "    return \" \".join(tokens)"
   ]
  },
  {
   "cell_type": "code",
   "execution_count": 4,
   "metadata": {},
   "outputs": [],
   "source": [
    "def combine_features(row):\n",
    "    \"\"\"\n",
    "    Combine and weight features.\n",
    "    Here, we double the 'Plot' to emphasize it and include Genre, Directors, and Stars.\n",
    "    \"\"\"\n",
    "\n",
    "    # Duplicate Plot to increase its weight\n",
    "    weighted_plot = row['Plot']*2\n",
    "\n",
    "    # Combined the Various Field like Genre, weighted plot, directors and stars to broaden the search\n",
    "    combined = f\"{row['Genre']} {weighted_plot} Directors: {row['Directors']} Stars: {row['Stars']}\"\n",
    "\n",
    "    return combined"
   ]
  },
  {
   "cell_type": "code",
   "execution_count": 5,
   "metadata": {},
   "outputs": [],
   "source": [
    "def load_and_prepare_data(filepath):\n",
    "    \"\"\"\n",
    "    Load CSV data and prepare a processed text column for embedding.\n",
    "    \"\"\"\n",
    "\n",
    "    df = pd.read_csv(filepath)\n",
    "\n",
    "    # Combine selected features into one text field\n",
    "    df['combined_features'] = df.apply(combine_features, axis=1)\n",
    "\n",
    "    # Preprocess the combined text using spaCy\n",
    "    df['processed_text'] = df['combined_features'].apply(preprocess_text)\n",
    "    \n",
    "    return df"
   ]
  },
  {
   "cell_type": "code",
   "execution_count": 6,
   "metadata": {},
   "outputs": [],
   "source": [
    "def compute_tfidf_embeddings(corpus):\n",
    "    \"\"\"\n",
    "    Compute TF-IDF vectors for a list of texts.\n",
    "    \"\"\"\n",
    "    \n",
    "    vectorizer = TfidfVectorizer(ngram_range=(1,2))\n",
    "    tfidf_matrix = vectorizer.fit_transform(corpus)\n",
    "    return tfidf_matrix, vectorizer"
   ]
  },
  {
   "cell_type": "code",
   "execution_count": 7,
   "metadata": {},
   "outputs": [],
   "source": [
    "def compute_embeddings(texts, model):\n",
    "    \"\"\"\n",
    "    Compute dense embeddings for a list of texts using a SentenceTransformer model.\n",
    "    \"\"\"\n",
    "\n",
    "    embeddings = model.encode(texts, convert_to_numpy=True)\n",
    "\n",
    "    return embeddings"
   ]
  },
  {
   "cell_type": "code",
   "execution_count": 8,
   "metadata": {},
   "outputs": [],
   "source": [
    "def cluster_agglomerative(embeddings, n_clusters=10):\n",
    "    \"\"\"\n",
    "    Use Agglomerative Algorithm to cluster movie embeddings for diversity in recommendations.\n",
    "    \"\"\"\n",
    "\n",
    "    agg_cluster = AgglomerativeClustering(n_clusters=n_clusters)\n",
    "\n",
    "    return agg_cluster.fit_predict(embeddings)"
   ]
  },
  {
   "cell_type": "code",
   "execution_count": null,
   "metadata": {},
   "outputs": [],
   "source": [
    "def get_recommendations(query,tfidf_vectorizer,tfidf_matrix, model, movie_embeddings, df, total_n=10,alpha=0.2):\n",
    "    \"\"\"\n",
    "    Get top recommendations for a query.\n",
    "    \n",
    "    Returns a list of recommendations (total length = total_n).\n",
    "    \"\"\"\n",
    "    \n",
    "    query_processed = preprocess_text(query)\n",
    "    query_tfidf = tfidf_vectorizer.transform([query_processed])\n",
    "    sim_tfidf = cosine_similarity(query_tfidf, tfidf_matrix).flatten()\n",
    "\n",
    "\n",
    "    # Compute embedding for the query\n",
    "    query_embedding = model.encode([query], convert_to_numpy=True)\n",
    "\n",
    "    # Calculate cosine similarity between the query and each movie embedding\n",
    "    similarities = cosine_similarity(query_embedding, movie_embeddings).flatten()\n",
    "    hybrid_sim = alpha * sim_tfidf + (1-alpha)*similarities\n",
    "    df['similarity'] = hybrid_sim\n",
    "\n",
    "\n",
    "    # Sort the DataFrame by similarity in descending order\n",
    "    df_sorted = df.sort_values(by=['similarity', 'Rating'], ascending=[False, False])\n",
    "\n",
    "    # select the cluster with highest number of appearence in top 10\n",
    "    top_cluster = df_sorted.head(10).mode().iloc[0]['cluster']\n",
    "\n",
    "    # Select movies from the top cluster, sorted by similarity descending\n",
    "    top_cluster_movies = df_sorted[df_sorted['cluster'] == top_cluster]\n",
    "\n",
    "    # 66% of Total N will be from top_cluster and remaining are from other clusters\n",
    "    selected_top_cluster = []\n",
    "    for idx, row in top_cluster_movies.iterrows():\n",
    "        if len(selected_top_cluster) < total_n*2//3:\n",
    "            selected_top_cluster.append(row)\n",
    "        else:\n",
    "            break\n",
    "\n",
    "    # Select remaining Movies\n",
    "    remaining_movies = df_sorted[df_sorted['cluster'] != top_cluster]\n",
    "\n",
    "    selected_remaining = []\n",
    "    for idx, row in remaining_movies.iterrows():\n",
    "        if len(selected_top_cluster) + len(selected_remaining) < total_n:\n",
    "            selected_remaining.append(row)\n",
    "        else:\n",
    "            break\n",
    "\n",
    "\n",
    "    return selected_top_cluster + selected_remaining"
   ]
  },
  {
   "cell_type": "code",
   "execution_count": 10,
   "metadata": {},
   "outputs": [],
   "source": [
    "def main():\n",
    "    user_query = input(\"\"\" Example Query :: I love thrilling space adventures with unexpected twists.\"\"\").strip()\n",
    "\n",
    "    # Load and prepare the dataset\n",
    "    df = load_and_prepare_data(r'Dataset\\movies_subset_cleaned.csv')\n",
    "\n",
    "    tfidf_matrix, tfidf_vectorizer = compute_tfidf_embeddings(df['processed_text'].tolist())\n",
    "\n",
    "    # Load the pre-trained SentenceTransformer model\n",
    "    model = SentenceTransformer('all-MiniLM-L6-v2')\n",
    "\n",
    "    # Compute embeddings for each processed movie text\n",
    "    movie_embeddings = compute_embeddings(df['processed_text'].tolist(), model)\n",
    "\n",
    "    # Compute clusters to later ensure diversity in recommendations\n",
    "    n_clusters = 10\n",
    "    cluster_labels = cluster_agglomerative(movie_embeddings, n_clusters)\n",
    "    df['cluster'] = cluster_labels\n",
    "\n",
    "    # Get diverse recommendations for the user's query\n",
    "    recommendations = get_recommendations(user_query,tfidf_vectorizer,tfidf_matrix, model, movie_embeddings, df,alpha=0.3)\n",
    "    recommendations = sorted(recommendations, key=lambda row: row['similarity'], reverse=True)\n",
    "\n",
    "    print(f\"\\nTop recommendations for: '{user_query}'\\n\")\n",
    "    for i, rec in enumerate(recommendations):\n",
    "        movie_name = rec['Movie Name']\n",
    "        rating = rec['Rating']\n",
    "        similarity = rec['similarity']\n",
    "        cluster = rec['cluster']\n",
    "        print(f\"{i+1}. {movie_name} (Rating: {rating}, Similarity: {similarity:.4f}, Cluster: {cluster})\")"
   ]
  },
  {
   "cell_type": "code",
   "execution_count": null,
   "metadata": {},
   "outputs": [],
   "source": [
    "if __name__ == \"__main__\":\n",
    "    main()"
   ]
  },
  {
   "cell_type": "code",
   "execution_count": null,
   "metadata": {},
   "outputs": [],
   "source": []
  }
 ],
 "metadata": {
  "kernelspec": {
   "display_name": "venv_recommender",
   "language": "python",
   "name": "python3"
  },
  "language_info": {
   "codemirror_mode": {
    "name": "ipython",
    "version": 3
   },
   "file_extension": ".py",
   "mimetype": "text/x-python",
   "name": "python",
   "nbconvert_exporter": "python",
   "pygments_lexer": "ipython3",
   "version": "3.12.7"
  }
 },
 "nbformat": 4,
 "nbformat_minor": 2
}
